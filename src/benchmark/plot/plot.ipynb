{
 "cells": [
  {
   "cell_type": "code",
   "execution_count": null,
   "metadata": {
    "collapsed": true
   },
   "outputs": [],
   "source": [
    "import os\n",
    "\n",
    "import pandas as pd\n",
    "import matplotlib.pyplot as plt"
   ]
  },
  {
   "cell_type": "markdown",
   "source": [
    "# Data cleaning"
   ],
   "metadata": {
    "collapsed": false
   }
  },
  {
   "cell_type": "code",
   "execution_count": null,
   "outputs": [],
   "source": [
    "directory = 'asset/full_benchmark'\n",
    "\n",
    "def clean(in_file, ou_file):\n",
    "    with open(in_file, \"r\") as f_in:\n",
    "        # For each line in the file (check the number of ,)\n",
    "        with open(ou_file, \"w\") as f_out:\n",
    "            for line in f_in:\n",
    "                # If line contains 12 , append to output file\n",
    "                if line.count(\",\") == 12:\n",
    "                    f_out.write(line)\n",
    "\n",
    "for file in os.listdir(directory):\n",
    "    if file.endswith(\".csv\"):\n",
    "        clean(os.path.join(directory, file), os.path.join('asset/clean_benchmark', file))\n",
    "    else:\n",
    "        continue"
   ],
   "metadata": {
    "collapsed": false
   }
  },
  {
   "cell_type": "code",
   "execution_count": null,
   "outputs": [],
   "source": [
    "# iterate over the files in asset/full_benchmark\n",
    "# for each file, read it into a dataframe\n",
    "\n",
    "df = pd.DataFrame(\n",
    "    columns=[\n",
    "        'instance','runnable','model','cumulative','bias',\n",
    "        'use_first_maze','maze','win','steps','episodes',\n",
    "        'first_win','convergence_count','cumulative_reward'\n",
    "    ]\n",
    ")\n",
    "\n",
    "directory = 'asset/clean_benchmark'\n",
    "\n",
    "for file in os.listdir(directory):\n",
    "    if file.endswith(\".csv\"):\n",
    "        print(file)\n",
    "        df_loop = pd.read_csv(os.path.join(directory, file))\n",
    "        df = pd.concat([df, df_loop], ignore_index=True)\n",
    "    else:\n",
    "        continue"
   ],
   "metadata": {
    "collapsed": false
   }
  },
  {
   "cell_type": "code",
   "execution_count": null,
   "outputs": [],
   "source": [
    "df.head()"
   ],
   "metadata": {
    "collapsed": false
   }
  },
  {
   "cell_type": "code",
   "execution_count": null,
   "outputs": [],
   "source": [
    "print(df['model'].unique())"
   ],
   "metadata": {
    "collapsed": false
   }
  },
  {
   "cell_type": "code",
   "execution_count": null,
   "outputs": [],
   "source": [
    "df[\"maze\"] = df[\"maze\"].apply(lambda x: int(x.split(\"_\")[1]))\n",
    "df.head()"
   ],
   "metadata": {
    "collapsed": false
   }
  },
  {
   "cell_type": "markdown",
   "source": [
    "# Parametrization"
   ],
   "metadata": {
    "collapsed": false
   }
  },
  {
   "cell_type": "code",
   "execution_count": null,
   "outputs": [],
   "source": [
    "# Dictionaries for parametrization\n",
    "\n",
    "# 0. Translations from dataset model name\n",
    "Q_LEARNING = \"Q-Learning\"\n",
    "C45 = \"C45\"\n",
    "PDT = \"PDT\"\n",
    "NAIVE_BAYES = \"NaiveBayes\"\n",
    "RANDOM_FOREST = \"RandomForest\"\n",
    "NEURAL_NETWORK = \"NeuralNetwork\"\n",
    "KNN = \"kNN\"\n",
    "MANUAL = \"Manual\"\n",
    "\n",
    "# 1. Dictionary for model names\n",
    "MODEL_NAME = {\n",
    "    \"Q-Learning\": Q_LEARNING,\n",
    "    \"QLearning\": Q_LEARNING,\n",
    "    \"Qlearning\": Q_LEARNING,\n",
    "    \"nan\": Q_LEARNING,\n",
    "\n",
    "    \"C4.5\": C45,\n",
    "    \"C45\": C45,\n",
    "    \"C45WekaModel\": C45,\n",
    "\n",
    "    \"PDT\": PDT,\n",
    "    \"PDTWekaModel\": PDT,\n",
    "\n",
    "    \"Naive Bayes\": NAIVE_BAYES,\n",
    "    \"NaiveBayesWekaModel\": NAIVE_BAYES,\n",
    "\n",
    "    \"Random Forest\": RANDOM_FOREST,\n",
    "\n",
    "    \"Neural Network\": NEURAL_NETWORK,\n",
    "\n",
    "    \"kNN\": KNN,\n",
    "\n",
    "    \"Manual\": MANUAL,\n",
    "    \"ManualModel\": MANUAL,\n",
    "}\n",
    "\n",
    "\n",
    "# 2. Dictionary of colors for each model\n",
    "MODEL_COLOR = {\n",
    "    Q_LEARNING: \"tab:blue\",\n",
    "    C45: \"tab:orange\",\n",
    "    PDT: \"tab:red\",\n",
    "    NAIVE_BAYES: \"tab:green\",\n",
    "    RANDOM_FOREST: \"tab:gray\",\n",
    "    NEURAL_NETWORK: \"tab:cyan\",\n",
    "    KNN: \"tab:brown\",\n",
    "    MANUAL: \"tab:purple\",\n",
    "}\n",
    "\n",
    "# 3. Dictionary of parametrization for plotting\n",
    "PLOT_PARAM = {\n",
    "    # CUMULATIVE: {\n",
    "    #     \"alpha\": 0.5,\n",
    "    # },\n",
    "}\n"
   ],
   "metadata": {
    "collapsed": false
   }
  },
  {
   "cell_type": "markdown",
   "source": [
    "# Plotting"
   ],
   "metadata": {
    "collapsed": false
   }
  },
  {
   "cell_type": "code",
   "execution_count": null,
   "outputs": [],
   "source": [
    "def plot_comparison(data, column, title, save=None):\n",
    "    \"\"\"\n",
    "    Plot a comparison of the given column for each model in a bar plot.\n",
    "    \"\"\"\n",
    "\n",
    "    data.groupby([\"maze\", \"model\"])[\n",
    "        column\n",
    "    ].mean().unstack().plot.bar(\n",
    "        figsize=(10, 5),\n",
    "        width=0.5,\n",
    "        title=title,\n",
    "        xlabel=\"maze\",\n",
    "        ylabel=column,\n",
    "    )\n",
    "    if save is not None:\n",
    "        plt.savefig(save, dpi=300)\n",
    "    plt.show()\n"
   ],
   "metadata": {
    "collapsed": false
   }
  },
  {
   "cell_type": "markdown",
   "source": [
    "## Plot first win"
   ],
   "metadata": {
    "collapsed": false
   }
  },
  {
   "cell_type": "code",
   "execution_count": null,
   "outputs": [],
   "source": [
    "# Plot first win of each model in a bar plot, separated per maze\n",
    "\n",
    "# List of experiments parameters to chose from\n",
    "\n",
    "# 1. Previous knowledge: cumulative, use_first_maze, use_previous_maze (when False/False)\n",
    "previous_knowledge = {\n",
    "    \"cumulative\": [True, False, False],\n",
    "    \"use_first_maze\": [False, True, False],\n",
    "}\n",
    "\n",
    "# 2. Bias\n",
    "biases = [0, -0.02]\n",
    "\n",
    "# 0. Recover only the first win of each model\n",
    "# for bias in biases:\n",
    "#     for i in range(3):\n",
    "#         print(bias, i)\n",
    "#\n",
    "#         knowledge = \"cumulative\" if previous_knowledge[\"cumulative\"][i] else None\n",
    "#         knowledge = \"use_first_maze\" if previous_knowledge[\"use_first_maze\"][i] else knowledge\n",
    "#         knowledge = \"previous_maze\" if knowledge is None else knowledge\n",
    "#\n",
    "#         df_plot = df[\n",
    "#             (df[\"first_win\"] == True)\n",
    "#             & (df[\"bias\"] == bias)\n",
    "#             & (df[\"cumulative\"] == previous_knowledge[\"cumulative\"][i])\n",
    "#             & (df[\"use_first_maze\"] == previous_knowledge[\"use_first_maze\"][i])\n",
    "#         ]\n",
    "#\n",
    "#         print(df_plot.head())\n",
    "#\n",
    "#         if df_plot.empty:\n",
    "#             continue\n",
    "#\n",
    "#         plot_comparison(\n",
    "#             df_plot,\n",
    "#             \"episodes\",\n",
    "#             f\"First win (bias={bias}, knowledge={knowledge})\",\n",
    "#             save=f\"asset/first_win_{bias}_{knowledge}.png\",\n",
    "#         )\n",
    "\n",
    "df_first_win = df[\n",
    "    (df['first_win'] == True)\n",
    "    & (df['bias'] == -0.2)\n",
    "    & (df['cumulative'] == False)\n",
    "    & (df['use_first_maze'] == False)\n",
    "]\n",
    "\n",
    "print(df_first_win.head())\n",
    "\n",
    "# 1. Group by model and maze\n",
    "plot_comparison(\n",
    "    df_first_win,\n",
    "    \"episodes\",\n",
    "    \"First win\",\n",
    "    save=\"asset/first_win.png\",\n",
    ")"
   ],
   "metadata": {
    "collapsed": false
   }
  },
  {
   "cell_type": "markdown",
   "source": [
    "## Plot cumulative reward"
   ],
   "metadata": {
    "collapsed": false
   }
  }
 ],
 "metadata": {
  "kernelspec": {
   "display_name": "Python 3",
   "language": "python",
   "name": "python3"
  },
  "language_info": {
   "codemirror_mode": {
    "name": "ipython",
    "version": 2
   },
   "file_extension": ".py",
   "mimetype": "text/x-python",
   "name": "python",
   "nbconvert_exporter": "python",
   "pygments_lexer": "ipython2",
   "version": "2.7.6"
  }
 },
 "nbformat": 4,
 "nbformat_minor": 0
}
