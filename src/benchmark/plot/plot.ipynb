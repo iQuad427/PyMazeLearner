{
 "cells": [
  {
   "cell_type": "code",
   "execution_count": null,
   "metadata": {
    "collapsed": true
   },
   "outputs": [],
   "source": [
    "import os\n",
    "\n",
    "import pandas as pd\n",
    "import matplotlib.pyplot as plt"
   ]
  },
  {
   "cell_type": "markdown",
   "source": [
    "# Data cleaning"
   ],
   "metadata": {
    "collapsed": false
   }
  },
  {
   "cell_type": "code",
   "execution_count": null,
   "outputs": [],
   "source": [
    "directory = 'asset/full_benchmark'\n",
    "\n",
    "def clean(in_file, ou_file):\n",
    "    with open(in_file, \"r\") as f_in:\n",
    "        # For each line in the file (check the number of ,)\n",
    "        with open(ou_file, \"w\") as f_out:\n",
    "            for line in f_in:\n",
    "                # If line contains 12 , append to output file\n",
    "                if line.count(\",\") == 12:\n",
    "                    f_out.write(line)\n",
    "\n",
    "for file in os.listdir(directory):\n",
    "    if file.endswith(\".csv\"):\n",
    "        clean(os.path.join(directory, file), os.path.join('asset/clean_benchmark', file))\n",
    "    else:\n",
    "        continue"
   ],
   "metadata": {
    "collapsed": false
   }
  },
  {
   "cell_type": "code",
   "execution_count": null,
   "outputs": [],
   "source": [
    "# iterate over the files in asset/full_benchmark\n",
    "# for each file, read it into a dataframe\n",
    "\n",
    "df = pd.DataFrame(\n",
    "    columns=[\n",
    "        'instance','runnable','model','cumulative','bias',\n",
    "        'use_first_maze','maze','win','steps','episodes',\n",
    "        'first_win','convergence_count','cumulative_reward'\n",
    "    ]\n",
    ")\n",
    "\n",
    "directory = 'asset/clean_benchmark'\n",
    "\n",
    "for file in os.listdir(directory):\n",
    "    if file.endswith(\".csv\"):\n",
    "        print(file)\n",
    "        df_loop = pd.read_csv(os.path.join(directory, file))\n",
    "        df = pd.concat([df, df_loop], ignore_index=True)\n",
    "    else:\n",
    "        continue"
   ],
   "metadata": {
    "collapsed": false
   }
  },
  {
   "cell_type": "code",
   "execution_count": null,
   "outputs": [],
   "source": [
    "df.head()"
   ],
   "metadata": {
    "collapsed": false
   }
  },
  {
   "cell_type": "code",
   "execution_count": null,
   "outputs": [],
   "source": [
    "print(df['model'].unique())"
   ],
   "metadata": {
    "collapsed": false
   }
  },
  {
   "cell_type": "code",
   "execution_count": null,
   "outputs": [],
   "source": [
    "df[\"maze\"] = df[\"maze\"].apply(lambda x: int(x.split(\"_\")[1]))\n",
    "\n",
    "# Replace N/A with Q-Learning\n",
    "df[\"model\"] = df[\"model\"].fillna(\"Q-Learning\")\n",
    "\n",
    "print(df['model'].unique())\n",
    "\n",
    "df.head()"
   ],
   "metadata": {
    "collapsed": false
   }
  },
  {
   "cell_type": "markdown",
   "source": [
    "# Parametrization"
   ],
   "metadata": {
    "collapsed": false
   }
  },
  {
   "cell_type": "code",
   "execution_count": null,
   "outputs": [],
   "source": [
    "# Dictionaries for parametrization\n",
    "\n",
    "# 1. List for model names\n",
    "Q_LEARNING = [\"Q-Learning\", \"Qlearning\", \"QLearning\"]\n",
    "C45 = [\"C45\", \"C4.5\", \"C45WekaModel\"]\n",
    "PDT = [\"PDTWekaModel\"]\n",
    "NAIVE_BAYES = [\"NaiveBayes\", \"Naive Bayes\", \"NaiveBayesWekaModel\"]\n",
    "RANDOM_FOREST = [\"RandomForest\", \"Random Forest\", \"RandomForestModel\"]\n",
    "NEURAL_NETWORK = [\"NeuralNetwork\", \"Neural Network\", \"NeuralNetworkModel\"]\n",
    "KNN = [\"kNN\", \"kNNModel\"]\n",
    "MANUAL = [\"Manual\", \"ManualModel\"]\n",
    "\n",
    "WEKA_MODELS = [\"C45WekaModel\", \"PDTWekaModel\", \"NaiveBayesWekaModel\"]\n",
    "NEW_MODELS = [\"C45Model\", \"NaiveBayesModel\", \"NeuralNetworkModel\", \"RandomForestModel\", \"kNNModel\"]\n",
    "\n",
    "# 2. Dictionary of colors for each model\n",
    "# MODEL_COLOR = {\n",
    "#     Q_LEARNING: \"tab:blue\",\n",
    "#     C45: \"tab:orange\",\n",
    "#     PDT: \"tab:red\",\n",
    "#     NAIVE_BAYES: \"tab:green\",\n",
    "#     RANDOM_FOREST: \"tab:gray\",\n",
    "#     NEURAL_NETWORK: \"tab:cyan\",\n",
    "#     KNN: \"tab:brown\",\n",
    "#     MANUAL: \"tab:purple\",\n",
    "# }\n",
    "\n",
    "# 3. Dictionary of parametrization for plotting\n",
    "PLOT_PARAM = {\n",
    "    # CUMULATIVE: {\n",
    "    #     \"alpha\": 0.5,\n",
    "    # },\n",
    "}\n"
   ],
   "metadata": {
    "collapsed": false
   }
  },
  {
   "cell_type": "markdown",
   "source": [
    "# Plotting"
   ],
   "metadata": {
    "collapsed": false
   }
  },
  {
   "cell_type": "code",
   "execution_count": null,
   "outputs": [],
   "source": [
    "data_q_learner = df[(df[\"runnable\"] == \"RunnableQLearner\") & (df[\"first_win\"] == True)]\n",
    "\n",
    "def plot_comparison(data, column, title, save=None, q_learner=True):\n",
    "    \"\"\"\n",
    "    Plot a comparison of the given column for each model in a bar plot.\n",
    "    \"\"\"\n",
    "\n",
    "    if q_learner:\n",
    "        data_compare = pd.concat([data, data_q_learner])\n",
    "    else:\n",
    "        data_compare = data\n",
    "\n",
    "    data_compare.groupby([\"maze\", \"model\"])[\n",
    "        column\n",
    "    ].mean().unstack().plot.bar(\n",
    "        figsize=(10, 5),\n",
    "        width=0.5,\n",
    "        title=title,\n",
    "        xlabel=\"maze\",\n",
    "        ylabel=column,\n",
    "    )\n",
    "    if save is not None:\n",
    "        plt.savefig(save, dpi=300)\n",
    "    plt.show()\n"
   ],
   "metadata": {
    "collapsed": false
   }
  },
  {
   "cell_type": "markdown",
   "source": [
    "## Plot first win"
   ],
   "metadata": {
    "collapsed": false
   }
  },
  {
   "cell_type": "code",
   "execution_count": null,
   "outputs": [],
   "source": [
    "df_first_win = df[\n",
    "    (df['first_win'] == True)\n",
    "    & (df['bias'] == 0)\n",
    "    & (df['cumulative'] == True)\n",
    "    & (df['use_first_maze'] == False)\n",
    "]\n",
    "\n",
    "# Plot\n",
    "plot_comparison(\n",
    "    df_first_win[\n",
    "        # contains models\n",
    "        df_first_win[\"model\"].isin(\n",
    "            NEW_MODELS\n",
    "        )\n",
    "    ],\n",
    "    \"episodes\",\n",
    "    \"First win\",\n",
    "    save=\"asset/images/first_win/first_win_new.png\",\n",
    "    q_learner=True\n",
    ")\n"
   ],
   "metadata": {
    "collapsed": false
   }
  },
  {
   "cell_type": "code",
   "execution_count": null,
   "outputs": [],
   "source": [
    "# Plot first win of each model in a bar plot, separated per maze\n",
    "\n",
    "# List of experiments parameters to chose from\n",
    "\n",
    "# 1. Previous knowledge: cumulative, use_first_maze, use_previous_maze (when False/False)\n",
    "previous_knowledge = {\n",
    "    \"cumulative\": [True, False, False],\n",
    "    \"use_first_maze\": [False, True, False],\n",
    "}\n",
    "\n",
    "# 2. Bias\n",
    "BIAS = [0, -0.2]\n",
    "\n",
    "# 3. Models\n",
    "MODELS = {\n",
    "    \"new_models\": NEW_MODELS,\n",
    "    \"weka_models\": WEKA_MODELS,\n",
    "}\n",
    "\n",
    "# 0. Recover only the first win of each model\n",
    "for models in MODELS:\n",
    "    for bias in BIAS:\n",
    "        for i in range(3):\n",
    "            print(bias, previous_knowledge[\"cumulative\"][i], previous_knowledge[\"use_first_maze\"][i])\n",
    "\n",
    "            knowledge = \"cumulative\" if previous_knowledge[\"cumulative\"][i] else None\n",
    "            knowledge = \"use_first_maze\" if previous_knowledge[\"use_first_maze\"][i] else knowledge\n",
    "            knowledge = \"previous_maze\" if knowledge is None else knowledge\n",
    "\n",
    "            df_plot = df[\n",
    "                (df[\"first_win\"] == True)\n",
    "                & (df[\"bias\"] == bias)\n",
    "                & (df[\"cumulative\"] == previous_knowledge[\"cumulative\"][i])\n",
    "                & (df[\"use_first_maze\"] == previous_knowledge[\"use_first_maze\"][i])\n",
    "            ]\n",
    "\n",
    "            print(df_plot.head())\n",
    "\n",
    "            if df_plot.empty:\n",
    "                continue\n",
    "\n",
    "            plot_comparison(\n",
    "                df_plot[\n",
    "                    df_plot[\"model\"].isin(\n",
    "                        MODELS[models]\n",
    "                    )\n",
    "                ],\n",
    "                \"episodes\",\n",
    "                f\"First win (model={models}, bias={bias}, knowledge={knowledge})\",\n",
    "                save=f\"asset/images/first_win/first_win_{models}_{knowledge}_{bias}.png\",\n",
    "            )\n"
   ],
   "metadata": {
    "collapsed": false
   }
  },
  {
   "cell_type": "code",
   "execution_count": null,
   "outputs": [],
   "source": [
    "BIAS = list(df[\"bias\"].unique())\n",
    "\n",
    "# sort the list\n",
    "BIAS.sort()\n",
    "\n",
    "cumulative = True\n",
    "use_first_maze = False\n",
    "\n",
    "knowledge = \"cumulative\" if cumulative else None\n",
    "knowledge = \"use_first_maze\" if use_first_maze else knowledge\n",
    "knowledge = \"previous_maze\" if knowledge is None else knowledge\n",
    "\n",
    "for bias in BIAS:\n",
    "    df_bias = df[\n",
    "        (df['first_win'] == True)\n",
    "        & (df['bias'] == bias)\n",
    "        & (df['cumulative'] == cumulative)\n",
    "        & (df['use_first_maze'] == use_first_maze)\n",
    "    ]\n",
    "\n",
    "    # Plot\n",
    "    plot_comparison(\n",
    "        df_bias[\n",
    "            # contains models\n",
    "            df_bias[\"model\"].isin(\n",
    "                [\"RandomForestModel\"]\n",
    "            )\n",
    "        ],\n",
    "        \"episodes\",\n",
    "        f\"First win (model=RandomForestModel, bias={bias}, knowledge={knowledge})\",\n",
    "        save=f\"asset/images/bias/first_win_random_forest_{knowledge}_bias_{bias}.png\",\n",
    "        q_learner=True\n",
    "    )"
   ],
   "metadata": {
    "collapsed": false
   }
  },
  {
   "cell_type": "markdown",
   "source": [
    "## First, second, third win"
   ],
   "metadata": {
    "collapsed": false
   }
  },
  {
   "cell_type": "code",
   "execution_count": null,
   "outputs": [],
   "source": [
    "df_win = df[\n",
    "    # (df['first_win'] == True)\n",
    "    (df['win'] <= 3)\n",
    "    & (df['bias'] == 0)\n",
    "    & (df['cumulative'] == True)\n",
    "    & (df['use_first_maze'] == False)\n",
    "    & (df['model'].isin([\"NaiveBayesModel\"]))\n",
    "]\n",
    "\n",
    "df_win.groupby([\"maze\", \"win\"])[\n",
    "    \"episodes\"\n",
    "].mean().unstack().plot.bar(\n",
    "    figsize=(10, 5),\n",
    "    width=0.5,\n",
    "    title=\"First 3 Wins\",\n",
    "    xlabel=\"maze\",\n",
    "    ylabel=\"episodes\",\n",
    ")\n",
    "\n",
    "plt.show()"
   ],
   "metadata": {
    "collapsed": false
   }
  },
  {
   "cell_type": "markdown",
   "source": [
    "## Plot cumulative reward"
   ],
   "metadata": {
    "collapsed": false
   }
  }
 ],
 "metadata": {
  "kernelspec": {
   "display_name": "Python 3",
   "language": "python",
   "name": "python3"
  },
  "language_info": {
   "codemirror_mode": {
    "name": "ipython",
    "version": 2
   },
   "file_extension": ".py",
   "mimetype": "text/x-python",
   "name": "python",
   "nbconvert_exporter": "python",
   "pygments_lexer": "ipython2",
   "version": "2.7.6"
  }
 },
 "nbformat": 4,
 "nbformat_minor": 0
}
